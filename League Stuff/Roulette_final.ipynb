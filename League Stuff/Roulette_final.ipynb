{
 "cells": [
  {
   "cell_type": "code",
   "execution_count": 1,
   "metadata": {},
   "outputs": [],
   "source": [
    "import random\n",
    "import pandas as pd\n",
    "import numpy as np\n",
    "import os\n",
    "\n",
    "#Fetching csv from cwd\n",
    "path = os.path.join(os.getcwd(), 'Champ_list.csv')\n",
    "\n",
    "#Creating df from csv\n",
    "df = pd.read_csv(path)\n",
    "\n",
    "#Writing names to a list\n",
    "champ_list = df['Name'].tolist()\n",
    "\n",
    "#Creating the roulette part of the script to choose a random champion\n",
    "def choose():\n",
    "    random.shuffle(champ_list)\n",
    "    global champ_name\n",
    "    champ_name = champ_list[0]\n",
    "    print(f'Your champion is: {champ_name}')\n",
    "\n",
    "#Creating part to remove a champion from the list when you win\n",
    "#Also updates the csv by removing the champion you just won with\n",
    "def remove():\n",
    "    name = input('Enter the name of the champion to be removed')\n",
    "    name = name.title()\n",
    "    try:\n",
    "        champ_list.remove(name)\n",
    "        print(f'{name} successfully removed')\n",
    "        champ_df = pd.DataFrame(champ_list)\n",
    "        champ_df.to_csv('Champ_list.csv', index=False)\n",
    "    except:\n",
    "        print('You already removed this champion')\n",
    "    return print(f' You have {len(champ_list)} champions remaining')\n",
    "\n",
    "#Creating the user input function to choose the feature to enact\n",
    "def roulette():\n",
    "    x = input('Type spin to pick a champion or remove to remove a champion from the list')\n",
    "    if x.lower() == 'spin':\n",
    "        return choose()\n",
    "    elif x.lower() == 'remove':\n",
    "        return remove()\n",
    "    else:\n",
    "        print('invalid input, run again')\n"
   ]
  },
  {
   "cell_type": "code",
   "execution_count": null,
   "metadata": {},
   "outputs": [],
   "source": []
  }
 ],
 "metadata": {
  "kernelspec": {
   "display_name": "Python 3.9.8 64-bit",
   "language": "python",
   "name": "python3"
  },
  "language_info": {
   "codemirror_mode": {
    "name": "ipython",
    "version": 3
   },
   "file_extension": ".py",
   "mimetype": "text/x-python",
   "name": "python",
   "nbconvert_exporter": "python",
   "pygments_lexer": "ipython3",
   "version": "3.9.8"
  },
  "orig_nbformat": 4,
  "vscode": {
   "interpreter": {
    "hash": "f450c7eb4f838dc2b8e8e4724af9f52f1f78adb4aba90f54ac373406a2721386"
   }
  }
 },
 "nbformat": 4,
 "nbformat_minor": 2
}
